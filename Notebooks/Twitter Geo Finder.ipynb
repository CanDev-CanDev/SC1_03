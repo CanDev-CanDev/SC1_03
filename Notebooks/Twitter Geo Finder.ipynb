{
 "cells": [
  {
   "cell_type": "code",
   "execution_count": 207,
   "metadata": {},
   "outputs": [],
   "source": [
    "# Imports and Constants\n",
    "import requests\n",
    "from requests_oauthlib import OAuth1\n",
    "\n",
    "URLS = {}\n",
    "URLS[\"BASE_URL\"] = \"https://api.twitter.com/1.1\"\n",
    "URLS[\"GEO_LOCATION_SEARCH\"] = \"%s/geo/search.json\" % (URLS[\"BASE_URL\"],)\n",
    "URLS[\"TWEETS_SEARCH\"] = \"%s/search/tweets.json\" % (URLS[\"BASE_URL\"],)\n",
    "auth_info = {\n",
    "    \"consumer_key\": \"[hidden]\",\n",
    "    \"consumer_secret\": \"[hidden]\",\n",
    "    \"access_token_key\": \"[hidden]\",\n",
    "    \"access_token_secret\": \"[hidden]\"\n",
    "}\n",
    "\n",
    "auth = OAuth1(\n",
    "    auth_info[\"consumer_key\"],\n",
    "    auth_info[\"consumer_secret\"],\n",
    "    auth_info[\"access_token_key\"],\n",
    "    auth_info[\"access_token_secret\"]\n",
    ")\n",
    "\n",
    "provinces = [\"Ontario\", \"British Columbia\", \"Quebec\", \"Alberta\", \"Nova Scotia\", \"Manitoba\", \"Saskatchewan\"] #, \"New Brunswick\", \"Newfoundland and Labrador\", \"Prince Edward Island\"]"
   ]
  },
  {
   "cell_type": "code",
   "execution_count": 219,
   "metadata": {},
   "outputs": [],
   "source": [
    "class TweetFetcher:\n",
    "    def __init__(self, auth, locations, searchURL):\n",
    "        self.locations = locations\n",
    "        self.auth = auth\n",
    "        self.TWEET_SEARCH_URL = searchURL\n",
    "        \n",
    "    def fetch_tweets(self, keyword):\n",
    "        req = requests.get(\n",
    "            self.TWEET_SEARCH_URL,\n",
    "            params = {\n",
    "                'q': keyword\n",
    "            },\n",
    "            auth = self.auth\n",
    "        )\n",
    "        \n",
    "        return req.json()"
   ]
  },
  {
   "cell_type": "code",
   "execution_count": 220,
   "metadata": {},
   "outputs": [],
   "source": [
    "tweetFetcher = TweetFetcher(auth, data, URLS[\"TWEETS_SEARCH\"])"
   ]
  },
  {
   "cell_type": "code",
   "execution_count": 221,
   "metadata": {},
   "outputs": [
    {
     "data": {
      "text/plain": [
       "{'errors': [{'code': 89, 'message': 'Invalid or expired token.'}]}"
      ]
     },
     "execution_count": 221,
     "metadata": {},
     "output_type": "execute_result"
    }
   ],
   "source": [
    "tweetFetcher.fetch_tweets(\"amazon.ca\")"
   ]
  },
  {
   "cell_type": "code",
   "execution_count": 184,
   "metadata": {},
   "outputs": [],
   "source": [
    "class GeoFetcher:\n",
    "    def __init__(self, auth, geoLocationSearchURL):\n",
    "        self.provinces = [\"Ontario\", \"British Columbia\", \"Quebec\", \"Alberta\", \"Nova Scotia\", \"Manitoba\", \"Saskatchewan\"] #, \"New Brunswick\", \"Newfoundland and Labrador\", \"Prince Edward Island\"]\n",
    "        self.provinces = [\"%s, Canada\" % (x) for x in self.provinces]\n",
    "        self.auth = auth\n",
    "        self.GEO_LOCATION_SEARCH_URL = geoLocationSearchURL\n",
    "    \n",
    "    def fetch_all_places_from_q(self, location):\n",
    "        req = requests.get(\n",
    "            self.GEO_LOCATION_SEARCH_URL,\n",
    "            params = {\n",
    "                \"query\": location\n",
    "            },\n",
    "            auth = self.auth\n",
    "        )\n",
    "\n",
    "        json = req.json()\n",
    "\n",
    "        return json.get(\"result\")\n",
    "    \n",
    "    def is_relevant_place(self, data):\n",
    "        return data.get(\"place_type\") == \"admin\" and data.get(\"country_code\") == \"CA\"\n",
    "    \n",
    "    def find_relevant_place(self, data):\n",
    "        return [x for x in data if (self.is_relevant_place(x))]\n",
    "    \n",
    "    def find_relevant_places(self, data):\n",
    "        return [self.find_relevant_place(x.get(\"places\")) for x in data]\n",
    "    \n",
    "    def find_relevant_place(self, data):\n",
    "        return [x for x in data if (self.is_relevant_place(x))]\n",
    "    \n",
    "    def clean_relevant_places(self, data):\n",
    "        return [x[0] for x in data if len(x) > 0]\n",
    "    \n",
    "    def fetch_and_clean(self):\n",
    "        data = [self.fetch_all_places_from_q(x) for x in self.provinces]\n",
    "        data = [x for x in data if x is not None]\n",
    "        twitter_locations = find_relevant_places(data)\n",
    "        \n",
    "        self.cleaned =  self.clean_relevant_places(twitter_locations)\n",
    "        return self.cleaned"
   ]
  },
  {
   "cell_type": "code",
   "execution_count": 185,
   "metadata": {},
   "outputs": [],
   "source": [
    "geoFetcher = GeoFetcher(auth, URLS[\"GEO_LOCATION_SEARCH\"])"
   ]
  },
  {
   "cell_type": "code",
   "execution_count": 186,
   "metadata": {},
   "outputs": [],
   "source": [
    "data = geoFetcher.fetch_and_clean()"
   ]
  }
 ],
 "metadata": {
  "kernelspec": {
   "display_name": "Python 3",
   "language": "python",
   "name": "python3"
  },
  "language_info": {
   "codemirror_mode": {
    "name": "ipython",
    "version": 3
   },
   "file_extension": ".py",
   "mimetype": "text/x-python",
   "name": "python",
   "nbconvert_exporter": "python",
   "pygments_lexer": "ipython3",
   "version": "3.6.5"
  }
 },
 "nbformat": 4,
 "nbformat_minor": 2
}
